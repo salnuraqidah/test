{
 "cells": [
  {
   "cell_type": "markdown",
   "metadata": {
    "id": "nj0aJj-pbRAu"
   },
   "source": [
    "# NUMPY - Multidimensional Data Arrays"
   ]
  },
  {
   "cell_type": "markdown",
   "metadata": {
    "id": "xF2L6klRbRAz"
   },
   "source": [
    "It is a package that provide high-performance vector, matrix and higher-dimensional data structures for Python. NumPy brings the computational power of languages like C and Fortran to Python, a language much easier to learn and use."
   ]
  },
  {
   "cell_type": "code",
   "execution_count": 1,
   "metadata": {
    "executionInfo": {
     "elapsed": 187,
     "status": "ok",
     "timestamp": 1622886378195,
     "user": {
      "displayName": "Faris Qadri",
      "photoUrl": "",
      "userId": "03663442237226615559"
     },
     "user_tz": -120
    },
    "id": "voOfPbgnbRA1"
   },
   "outputs": [],
   "source": [
    "import numpy as np"
   ]
  },
  {
   "cell_type": "code",
   "execution_count": 3,
   "metadata": {
    "colab": {
     "base_uri": "https://localhost:8080/",
     "height": 35
    },
    "executionInfo": {
     "elapsed": 188,
     "status": "ok",
     "timestamp": 1622886379336,
     "user": {
      "displayName": "Faris Qadri",
      "photoUrl": "",
      "userId": "03663442237226615559"
     },
     "user_tz": -120
    },
    "id": "zoUtRpwxbRA2",
    "outputId": "33339124-3b98-4173-b3cd-3be47fd8db8d",
    "scrolled": true
   },
   "outputs": [
    {
     "data": {
      "text/plain": [
       "'1.20.1'"
      ]
     },
     "execution_count": 3,
     "metadata": {},
     "output_type": "execute_result"
    }
   ],
   "source": [
    "np.__version__"
   ]
  },
  {
   "cell_type": "code",
   "execution_count": 4,
   "metadata": {
    "colab": {
     "base_uri": "https://localhost:8080/"
    },
    "executionInfo": {
     "elapsed": 195,
     "status": "ok",
     "timestamp": 1622886399786,
     "user": {
      "displayName": "Faris Qadri",
      "photoUrl": "",
      "userId": "03663442237226615559"
     },
     "user_tz": -120
    },
    "id": "PW22Bve9bRA3",
    "outputId": "3eceb06f-665e-4505-8819-b8e39c2b949c"
   },
   "outputs": [
    {
     "data": {
      "text/plain": [
       "<function numpy.info(object=None, maxwidth=76, output=<ipykernel.iostream.OutStream object at 0x000001DE9F314B20>, toplevel='numpy')>"
      ]
     },
     "execution_count": 4,
     "metadata": {},
     "output_type": "execute_result"
    }
   ],
   "source": [
    "np.info"
   ]
  },
  {
   "cell_type": "markdown",
   "metadata": {
    "id": "dlYQa61wbRA3"
   },
   "source": [
    "## What is Array?"
   ]
  },
  {
   "cell_type": "markdown",
   "metadata": {
    "id": "4Z6oL4mCbRA4"
   },
   "source": [
    "![](image/array.png)"
   ]
  },
  {
   "cell_type": "code",
   "execution_count": 5,
   "metadata": {
    "executionInfo": {
     "elapsed": 219,
     "status": "ok",
     "timestamp": 1622886410039,
     "user": {
      "displayName": "Faris Qadri",
      "photoUrl": "",
      "userId": "03663442237226615559"
     },
     "user_tz": -120
    },
    "id": "gQhoHsJtbRA4"
   },
   "outputs": [],
   "source": [
    "# Python List\n",
    "\n",
    "a = [1, 2, 3, 4]\n",
    "b = [5, 6, 7, 8]"
   ]
  },
  {
   "cell_type": "code",
   "execution_count": 6,
   "metadata": {
    "colab": {
     "base_uri": "https://localhost:8080/",
     "height": 195
    },
    "executionInfo": {
     "elapsed": 192,
     "status": "error",
     "timestamp": 1622886431561,
     "user": {
      "displayName": "Faris Qadri",
      "photoUrl": "",
      "userId": "03663442237226615559"
     },
     "user_tz": -120
    },
    "id": "TAm0x_eZbRA5",
    "outputId": "5655cf34-aaad-4745-bb11-8d4c32b08c9b",
    "scrolled": true
   },
   "outputs": [
    {
     "name": "stdout",
     "output_type": "stream",
     "text": [
      "[1, 2, 3, 4, 5, 6, 7, 8]\n"
     ]
    },
    {
     "ename": "TypeError",
     "evalue": "can't multiply sequence by non-int of type 'list'",
     "output_type": "error",
     "traceback": [
      "\u001b[1;31m---------------------------------------------------------------------------\u001b[0m",
      "\u001b[1;31mTypeError\u001b[0m                                 Traceback (most recent call last)",
      "\u001b[1;32m<ipython-input-6-8da66cc73869>\u001b[0m in \u001b[0;36m<module>\u001b[1;34m\u001b[0m\n\u001b[0;32m      1\u001b[0m \u001b[0mprint\u001b[0m\u001b[1;33m(\u001b[0m\u001b[0ma\u001b[0m\u001b[1;33m+\u001b[0m\u001b[0mb\u001b[0m\u001b[1;33m)\u001b[0m\u001b[1;33m\u001b[0m\u001b[1;33m\u001b[0m\u001b[0m\n\u001b[1;32m----> 2\u001b[1;33m \u001b[0mprint\u001b[0m\u001b[1;33m(\u001b[0m\u001b[0ma\u001b[0m\u001b[1;33m*\u001b[0m\u001b[0mb\u001b[0m\u001b[1;33m)\u001b[0m\u001b[1;33m\u001b[0m\u001b[1;33m\u001b[0m\u001b[0m\n\u001b[0m",
      "\u001b[1;31mTypeError\u001b[0m: can't multiply sequence by non-int of type 'list'"
     ]
    }
   ],
   "source": [
    "print(a+b)\n",
    "print(a*b)"
   ]
  },
  {
   "cell_type": "markdown",
   "metadata": {
    "id": "ztOmgYEKbRA6"
   },
   "source": [
    "In the `numpy` package the terminology used for vectors, matrices and higher-dimensional data sets is *array*. \n",
    "\n"
   ]
  },
  {
   "cell_type": "code",
   "execution_count": 7,
   "metadata": {
    "colab": {
     "base_uri": "https://localhost:8080/"
    },
    "executionInfo": {
     "elapsed": 202,
     "status": "ok",
     "timestamp": 1622886910409,
     "user": {
      "displayName": "Faris Qadri",
      "photoUrl": "",
      "userId": "03663442237226615559"
     },
     "user_tz": -120
    },
    "id": "cJ6GrGdubRA6",
    "outputId": "074be986-a112-4997-a22d-ea28fb5bccbb"
   },
   "outputs": [
    {
     "name": "stdout",
     "output_type": "stream",
     "text": [
      "[ 6  8 10 12]\n",
      "[0.2        0.33333333 0.42857143 0.5       ]\n"
     ]
    }
   ],
   "source": [
    "a_array = np.array(a)\n",
    "b_array = np.array(b)\n",
    "\n",
    "print(a_array + b_array)\n",
    "print(a_array / b_array)"
   ]
  },
  {
   "cell_type": "markdown",
   "metadata": {
    "id": "lM0ld3dTbRA7"
   },
   "source": [
    "## Creating `numpy` arrays"
   ]
  },
  {
   "cell_type": "markdown",
   "metadata": {
    "id": "BITDwP7_bRA7"
   },
   "source": [
    "There are some ways to initialize new numpy arrays:\n",
    "* a Python list or tuples\n",
    "* using functions that are dedicated to generating numpy arrays, such as `arange`, `linspace`, etc.\n",
    "* reading data from files"
   ]
  },
  {
   "cell_type": "markdown",
   "metadata": {
    "id": "yqBkGxi-bRA8"
   },
   "source": [
    "### Lists"
   ]
  },
  {
   "cell_type": "code",
   "execution_count": 8,
   "metadata": {
    "colab": {
     "base_uri": "https://localhost:8080/"
    },
    "executionInfo": {
     "elapsed": 188,
     "status": "ok",
     "timestamp": 1622886948769,
     "user": {
      "displayName": "Faris Qadri",
      "photoUrl": "",
      "userId": "03663442237226615559"
     },
     "user_tz": -120
    },
    "id": "8u4xCP3TbRA8",
    "outputId": "1ed41e61-6352-47ce-c96c-3102404eb649"
   },
   "outputs": [
    {
     "data": {
      "text/plain": [
       "(5,)"
      ]
     },
     "execution_count": 8,
     "metadata": {},
     "output_type": "execute_result"
    }
   ],
   "source": [
    "# vector: the argument to the array function is a list\n",
    "v = np.array([1, 2, 3, 4, 5])\n",
    "\n",
    "v.shape"
   ]
  },
  {
   "cell_type": "code",
   "execution_count": 9,
   "metadata": {
    "colab": {
     "base_uri": "https://localhost:8080/"
    },
    "executionInfo": {
     "elapsed": 193,
     "status": "ok",
     "timestamp": 1622886968806,
     "user": {
      "displayName": "Faris Qadri",
      "photoUrl": "",
      "userId": "03663442237226615559"
     },
     "user_tz": -120
    },
    "id": "QR-AqmVgbRA9",
    "outputId": "ddb723cf-6691-44a1-f35b-213d9ef23db5"
   },
   "outputs": [
    {
     "data": {
      "text/plain": [
       "(2, 3)"
      ]
     },
     "execution_count": 9,
     "metadata": {},
     "output_type": "execute_result"
    }
   ],
   "source": [
    "# matrix: the argument to the array function is a nested list\n",
    "m = np.array([[1, 2, 3], [4, 5, 6]])\n",
    "\n",
    "m.shape"
   ]
  },
  {
   "cell_type": "markdown",
   "metadata": {
    "id": "Jh2DMePybRA9"
   },
   "source": [
    "The `v` and `m` objects are both of the type `ndarray` that the `numpy` module provides."
   ]
  },
  {
   "cell_type": "code",
   "execution_count": 10,
   "metadata": {
    "colab": {
     "base_uri": "https://localhost:8080/"
    },
    "executionInfo": {
     "elapsed": 183,
     "status": "ok",
     "timestamp": 1622886979789,
     "user": {
      "displayName": "Faris Qadri",
      "photoUrl": "",
      "userId": "03663442237226615559"
     },
     "user_tz": -120
    },
    "id": "ebyJ0ELCbRA-",
    "outputId": "b597bada-c49d-420b-8d59-82d1aabb1ead",
    "scrolled": true
   },
   "outputs": [
    {
     "data": {
      "text/plain": [
       "(numpy.ndarray, numpy.ndarray)"
      ]
     },
     "execution_count": 10,
     "metadata": {},
     "output_type": "execute_result"
    }
   ],
   "source": [
    "type(v), type(m)"
   ]
  },
  {
   "cell_type": "code",
   "execution_count": 11,
   "metadata": {
    "executionInfo": {
     "elapsed": 207,
     "status": "ok",
     "timestamp": 1622886987757,
     "user": {
      "displayName": "Faris Qadri",
      "photoUrl": "",
      "userId": "03663442237226615559"
     },
     "user_tz": -120
    },
    "id": "K6qIYwKbbRA-"
   },
   "outputs": [],
   "source": [
    "a = [1,2,3]"
   ]
  },
  {
   "cell_type": "code",
   "execution_count": 12,
   "metadata": {
    "colab": {
     "base_uri": "https://localhost:8080/"
    },
    "executionInfo": {
     "elapsed": 4,
     "status": "ok",
     "timestamp": 1622886989367,
     "user": {
      "displayName": "Faris Qadri",
      "photoUrl": "",
      "userId": "03663442237226615559"
     },
     "user_tz": -120
    },
    "id": "VhHdaqJ4bRA_",
    "outputId": "a03c09f0-fdb3-4824-88d7-760e809a89d8"
   },
   "outputs": [
    {
     "data": {
      "text/plain": [
       "list"
      ]
     },
     "execution_count": 12,
     "metadata": {},
     "output_type": "execute_result"
    }
   ],
   "source": [
    "type(a)"
   ]
  },
  {
   "cell_type": "markdown",
   "metadata": {
    "id": "TwVIoroRbRA_"
   },
   "source": [
    "The difference between the `v` and `m` arrays is only their shapes. We can get information about the shape of an array by using the `ndarray.shape` property."
   ]
  },
  {
   "cell_type": "code",
   "execution_count": 13,
   "metadata": {
    "colab": {
     "base_uri": "https://localhost:8080/"
    },
    "executionInfo": {
     "elapsed": 220,
     "status": "ok",
     "timestamp": 1622887013340,
     "user": {
      "displayName": "Faris Qadri",
      "photoUrl": "",
      "userId": "03663442237226615559"
     },
     "user_tz": -120
    },
    "id": "H2QNvtzibRBA",
    "outputId": "abae9ec6-2545-4242-dee8-0a90f1953b89"
   },
   "outputs": [
    {
     "data": {
      "text/plain": [
       "(5,)"
      ]
     },
     "execution_count": 13,
     "metadata": {},
     "output_type": "execute_result"
    }
   ],
   "source": [
    "v.shape"
   ]
  },
  {
   "cell_type": "code",
   "execution_count": 14,
   "metadata": {
    "colab": {
     "base_uri": "https://localhost:8080/"
    },
    "executionInfo": {
     "elapsed": 206,
     "status": "ok",
     "timestamp": 1622887015233,
     "user": {
      "displayName": "Faris Qadri",
      "photoUrl": "",
      "userId": "03663442237226615559"
     },
     "user_tz": -120
    },
    "id": "8XzBodfObRBA",
    "outputId": "70d65aae-a6d6-4135-eac2-a79806fe736d"
   },
   "outputs": [
    {
     "data": {
      "text/plain": [
       "(2, 3)"
      ]
     },
     "execution_count": 14,
     "metadata": {},
     "output_type": "execute_result"
    }
   ],
   "source": [
    "m.shape"
   ]
  },
  {
   "cell_type": "markdown",
   "metadata": {
    "id": "z68XC9qQbRBB"
   },
   "source": [
    "The number of elements in the array is available through the `ndarray.size` property"
   ]
  },
  {
   "cell_type": "code",
   "execution_count": 15,
   "metadata": {
    "colab": {
     "base_uri": "https://localhost:8080/"
    },
    "executionInfo": {
     "elapsed": 197,
     "status": "ok",
     "timestamp": 1622887021525,
     "user": {
      "displayName": "Faris Qadri",
      "photoUrl": "",
      "userId": "03663442237226615559"
     },
     "user_tz": -120
    },
    "id": "AO2p6MA7bRBB",
    "outputId": "8df57178-56eb-4190-d0e1-38ab6a9703b5"
   },
   "outputs": [
    {
     "data": {
      "text/plain": [
       "6"
      ]
     },
     "execution_count": 15,
     "metadata": {},
     "output_type": "execute_result"
    }
   ],
   "source": [
    "m.size"
   ]
  },
  {
   "cell_type": "markdown",
   "metadata": {
    "id": "G2AFOuiKbRBB"
   },
   "source": [
    "`numpy.ndarray` looks very similiar to the `list`. So, why not use the list instead?\n",
    "`numpay.ndarray` is used for several reason:\n",
    "1. Lists are very general. They can contain any kind of object. They do not support mathematical functions such as matrix and dot multiplication, etc. \n",
    "2. Numpy arrays are statically typed and homogenous. The type of the elements is determined when the array is created\n",
    "3. Numpy arrays are memory efficient\n",
    "4. It is fast for implementation of mathematical function"
   ]
  },
  {
   "cell_type": "markdown",
   "metadata": {
    "id": "CbeTRAuCbRBC"
   },
   "source": [
    "We can see the type of data of an array using `dtype`"
   ]
  },
  {
   "cell_type": "code",
   "execution_count": 17,
   "metadata": {
    "colab": {
     "base_uri": "https://localhost:8080/"
    },
    "executionInfo": {
     "elapsed": 196,
     "status": "ok",
     "timestamp": 1622887752265,
     "user": {
      "displayName": "Faris Qadri",
      "photoUrl": "",
      "userId": "03663442237226615559"
     },
     "user_tz": -120
    },
    "id": "URizRZdTbRBC",
    "outputId": "df9be742-e20c-4e6f-ef5b-7d8b6c2d541b"
   },
   "outputs": [
    {
     "data": {
      "text/plain": [
       "array([[4, 5, 6],\n",
       "       [7, 8, 9]])"
      ]
     },
     "execution_count": 17,
     "metadata": {},
     "output_type": "execute_result"
    }
   ],
   "source": [
    "one_dimension = np.array([1, 2, 3])\n",
    "\n",
    "two_dimension = np.array([[4, 5, 6],\n",
    "                          [7, 8, 9]])\n",
    "\n",
    "two_dimension\n",
    "\n"
   ]
  },
  {
   "cell_type": "code",
   "execution_count": null,
   "metadata": {},
   "outputs": [],
   "source": [
    "Tugas:\n",
    "membuat array 1 dimensi 7, \n",
    "membuat array 2 dimensi 3, 3\n",
    "membuat array 3 dimensi 4, 4, 4"
   ]
  },
  {
   "cell_type": "code",
   "execution_count": 18,
   "metadata": {
    "colab": {
     "base_uri": "https://localhost:8080/"
    },
    "executionInfo": {
     "elapsed": 302,
     "status": "ok",
     "timestamp": 1622889109721,
     "user": {
      "displayName": "Faris Qadri",
      "photoUrl": "",
      "userId": "03663442237226615559"
     },
     "user_tz": -120
    },
    "id": "zsG17e2DuNbb",
    "outputId": "46ce5d15-5158-4d84-dcdc-c3d1e71737ef"
   },
   "outputs": [
    {
     "data": {
      "text/plain": [
       "(3, 3)"
      ]
     },
     "execution_count": 18,
     "metadata": {},
     "output_type": "execute_result"
    }
   ],
   "source": [
    "# Soal kedua\n",
    "\n",
    "second_answer = np.array([[1, 2, 3],\n",
    "                          [4, 5, 6],\n",
    "                          [7, 8, 9]])\n",
    "\n",
    "# Print hasil\n",
    "second_answer\n",
    "\n",
    "# Shape\n",
    "second_answer.shape"
   ]
  },
  {
   "cell_type": "code",
   "execution_count": 19,
   "metadata": {
    "colab": {
     "base_uri": "https://localhost:8080/"
    },
    "executionInfo": {
     "elapsed": 204,
     "status": "ok",
     "timestamp": 1622889410572,
     "user": {
      "displayName": "Faris Qadri",
      "photoUrl": "",
      "userId": "03663442237226615559"
     },
     "user_tz": -120
    },
    "id": "3I_-x72AuNiV",
    "outputId": "4e491df4-85fe-4ee1-8df3-0a1c2eac3868"
   },
   "outputs": [
    {
     "data": {
      "text/plain": [
       "(4, 4, 4)"
      ]
     },
     "execution_count": 19,
     "metadata": {},
     "output_type": "execute_result"
    }
   ],
   "source": [
    "# Soal ketiga\n",
    "# Buatlah array 3 dimensi dg ashape 4, 4, 4\n",
    "\n",
    "# answer\n",
    "third_answer = np.array([[[1, 2, 3, 5],\n",
    "                          [4, 5, 6, 6],\n",
    "                          [7, 8, 9, 8],\n",
    "                          [7, 8, 9, 8]],\n",
    "                         \n",
    "                         [[1, 2, 3, 8],\n",
    "                          [4, 5, 6, 8],\n",
    "                          [7, 8, 9, 8],\n",
    "                          [7, 8, 9, 8]],\n",
    "                         \n",
    "                         [[1, 2, 3, 8],\n",
    "                          [4, 5, 6, 8],\n",
    "                          [7, 8, 9, 8],\n",
    "                          [7, 8, 9, 8]],\n",
    "                         \n",
    "                         [[1, 2, 3, 8],\n",
    "                          [4, 5, 6, 8],\n",
    "                          [7, 8, 9, 8],\n",
    "                          [7, 8, 9, 8]]])\n",
    "\n",
    "# Print hasil\n",
    "third_answer\n",
    "\n",
    "# Shape\n",
    "third_answer.shape"
   ]
  },
  {
   "cell_type": "code",
   "execution_count": 20,
   "metadata": {
    "colab": {
     "base_uri": "https://localhost:8080/"
    },
    "executionInfo": {
     "elapsed": 231,
     "status": "ok",
     "timestamp": 1622889819935,
     "user": {
      "displayName": "Faris Qadri",
      "photoUrl": "",
      "userId": "03663442237226615559"
     },
     "user_tz": -120
    },
    "id": "4ZK9qzmwuNmJ",
    "outputId": "f31f55e8-cfd0-4683-c1af-fcf274be1367"
   },
   "outputs": [
    {
     "data": {
      "text/plain": [
       "array([[1, 1, 1, 1, 1, 1, 1],\n",
       "       [1, 1, 1, 1, 1, 1, 1],\n",
       "       [1, 1, 1, 1, 1, 1, 1],\n",
       "       [1, 1, 1, 1, 1, 1, 1],\n",
       "       [1, 1, 1, 1, 1, 1, 1],\n",
       "       [1, 1, 1, 1, 1, 1, 1],\n",
       "       [1, 1, 1, 1, 1, 1, 1]])"
      ]
     },
     "execution_count": 20,
     "metadata": {},
     "output_type": "execute_result"
    }
   ],
   "source": [
    "ones = np.ones((7, 7), dtype=int)\n",
    "\n",
    "# Print ones\n",
    "ones"
   ]
  },
  {
   "cell_type": "markdown",
   "metadata": {
    "id": "Fwqnd5GBbRBD"
   },
   "source": [
    "If we want, we can explicitly define the type of the array data when we create it, using the `dtype` keyword argument: "
   ]
  },
  {
   "cell_type": "code",
   "execution_count": 41,
   "metadata": {
    "colab": {
     "base_uri": "https://localhost:8080/"
    },
    "executionInfo": {
     "elapsed": 233,
     "status": "ok",
     "timestamp": 1622887221134,
     "user": {
      "displayName": "Faris Qadri",
      "photoUrl": "",
      "userId": "03663442237226615559"
     },
     "user_tz": -120
    },
    "id": "a3s1-NUwbRBD",
    "outputId": "baedc3ad-0376-43bd-b04b-bd130d2d5707"
   },
   "outputs": [
    {
     "data": {
      "text/plain": [
       "dtype('float64')"
      ]
     },
     "execution_count": 41,
     "metadata": {
      "tags": []
     },
     "output_type": "execute_result"
    }
   ],
   "source": [
    "m = np.array([[1, 2, 3],\n",
    "              [4, 5, 6]], dtype=float)\n",
    "\n",
    "m"
   ]
  },
  {
   "cell_type": "markdown",
   "metadata": {
    "id": "z_p80GxdbRBE"
   },
   "source": [
    "Common data types that can be used with `dtype` are: `int`, `float`, `complex`, `bool`, `object`, etc."
   ]
  },
  {
   "cell_type": "markdown",
   "metadata": {
    "id": "I67QPwXQbRBE"
   },
   "source": [
    "### Create Matrix Zeros"
   ]
  },
  {
   "cell_type": "code",
   "execution_count": null,
   "metadata": {
    "id": "7aMDMTf_bRBE"
   },
   "outputs": [],
   "source": [
    "# One dimension\n",
    "\n",
    "zeros_matrix = np.zeros(5)\n",
    "\n",
    "zeros_matrix"
   ]
  },
  {
   "cell_type": "code",
   "execution_count": null,
   "metadata": {
    "id": "WI6TfbmWbRBF",
    "scrolled": true
   },
   "outputs": [],
   "source": [
    "#two dimension\n",
    "\n",
    "zeros_matrix2 = np.zeros(5,2)"
   ]
  },
  {
   "cell_type": "code",
   "execution_count": null,
   "metadata": {
    "id": "fSMDUQK4bRBF"
   },
   "outputs": [],
   "source": [
    "# should  be in tuple format\n",
    "\n",
    "zeros_matrix2 = np.zeros((5,2)) # 5 rows, 2 columns\n",
    "zeros_matrix2 "
   ]
  },
  {
   "cell_type": "markdown",
   "metadata": {
    "id": "GPoE8wpubRBG"
   },
   "source": [
    "### Matrix ones"
   ]
  },
  {
   "cell_type": "code",
   "execution_count": null,
   "metadata": {
    "id": "HnDcbS-bbRBG"
   },
   "outputs": [],
   "source": [
    "#one dimension\n",
    "\n",
    "matrix_ones = np.ones(5)\n",
    "matrix_ones "
   ]
  },
  {
   "cell_type": "code",
   "execution_count": null,
   "metadata": {
    "id": "nj1UxdizbRBG",
    "scrolled": true
   },
   "outputs": [],
   "source": [
    "#3 dimension\n",
    "\n",
    "matrix_ones2 = np.ones((3, 4, 2)) #3 rows, 4 columns, 2 depth\n",
    "matrix_ones2"
   ]
  },
  {
   "cell_type": "markdown",
   "metadata": {
    "id": "25kNOyrbbRBH"
   },
   "source": [
    "## > Exercise 1"
   ]
  },
  {
   "cell_type": "markdown",
   "metadata": {
    "id": "_BgYHoShbRBH"
   },
   "source": [
    "1. Create a matrix from a list which has 4 rows and 3 columns"
   ]
  },
  {
   "cell_type": "code",
   "execution_count": null,
   "metadata": {
    "id": "dHInjyI4bRBI"
   },
   "outputs": [],
   "source": [
    "my_matrix = np.array([[1,2,3],\n",
    "                     [2,3,4],\n",
    "                     [1,2,1],\n",
    "                     [1,2,2]])\n",
    "my_matrix"
   ]
  },
  {
   "cell_type": "markdown",
   "metadata": {
    "id": "T2e3fxzabRBI"
   },
   "source": [
    "2. Create the following matrix\n",
    "![](image/lat11.png)"
   ]
  },
  {
   "cell_type": "code",
   "execution_count": null,
   "metadata": {
    "id": "IdbyzIxPbRBJ"
   },
   "outputs": [],
   "source": [
    "my_matrix2 = np.array([[2,7,12,0],\n",
    "                      [3,9,3,4],\n",
    "                      [4,0,1,3]])\n",
    "my_matrix2"
   ]
  },
  {
   "cell_type": "markdown",
   "metadata": {
    "id": "2Jz9Eq1FbRBK"
   },
   "source": [
    "3. Create a 2D matrix with size of 10"
   ]
  },
  {
   "cell_type": "code",
   "execution_count": null,
   "metadata": {
    "id": "AU4abNUEbRBK"
   },
   "outputs": [],
   "source": [
    "cara1 = np.array([[1,2,3,4,5],\n",
    "                 [6,7,8,9,10]])\n",
    "cara1"
   ]
  },
  {
   "cell_type": "code",
   "execution_count": null,
   "metadata": {
    "id": "sP_Smx9KbRBK",
    "scrolled": true
   },
   "outputs": [],
   "source": [
    "cara2 = np.zeros((2,5))\n",
    "cara2"
   ]
  },
  {
   "cell_type": "code",
   "execution_count": null,
   "metadata": {
    "id": "7o8RK_eubRBK"
   },
   "outputs": [],
   "source": [
    "cara3 = np.array([[1,2],\n",
    "                 [2,2],\n",
    "                 [2,1],\n",
    "                 [3,3],\n",
    "                 [4,5]])\n",
    "cara3"
   ]
  },
  {
   "cell_type": "code",
   "execution_count": null,
   "metadata": {
    "id": "kLNZ5x-lbRBK",
    "scrolled": false
   },
   "outputs": [],
   "source": [
    "cara4 = np.array([[1],\n",
    "                 [2],\n",
    "                 [2],\n",
    "                 [3],\n",
    "                 [4],\n",
    "                 [9],\n",
    "                 [10],\n",
    "                 [10],\n",
    "                 [7],\n",
    "                 [1]])\n",
    "cara4"
   ]
  },
  {
   "cell_type": "code",
   "execution_count": null,
   "metadata": {
    "id": "QoYMPH32bRBL"
   },
   "outputs": [],
   "source": [
    "print(\"Size cara1: \", cara1.size)\n",
    "print(\"Size cara2: \", cara2.size)\n",
    "print(\"Size cara3: \", cara3.size)\n",
    "print(\"Size cara4: \", cara4.size)"
   ]
  },
  {
   "cell_type": "code",
   "execution_count": null,
   "metadata": {
    "id": "pHF9mcDSbRBM"
   },
   "outputs": [],
   "source": [
    "print(\"Shape cara1: \", cara1.shape)\n",
    "print(\"Shape cara2: \", cara2.shape)\n",
    "print(\"Shape cara3: \", cara3.shape)\n",
    "print(\"Shape cara4: \", cara4.shape)"
   ]
  },
  {
   "cell_type": "markdown",
   "metadata": {
    "id": "pwiOD7uIbRBN"
   },
   "source": [
    "4. Create a 3D matrix of ones which has 2 rows, 3 columns, and 3 depth"
   ]
  },
  {
   "cell_type": "code",
   "execution_count": null,
   "metadata": {
    "id": "JMsWdM-qbRBN",
    "outputId": "866fe43e-e862-46ec-d267-3a1534561a05",
    "scrolled": true
   },
   "outputs": [
    {
     "data": {
      "text/plain": [
       "array([[[1, 2, 3],\n",
       "        [4, 5, 6],\n",
       "        [7, 8, 9]],\n",
       "\n",
       "       [[6, 2, 3],\n",
       "        [4, 5, 8],\n",
       "        [8, 8, 9]]])"
      ]
     },
     "execution_count": 7,
     "metadata": {
      "tags": []
     },
     "output_type": "execute_result"
    }
   ],
   "source": [
    "m4 = np.array([[[1,2,3],\n",
    "                [4,5,6],\n",
    "                [7,8,9]],\n",
    "               \n",
    "                [[6,2,3],\n",
    "                [4,5,8],\n",
    "                [8,8,9]]])\n",
    "\n",
    "m4"
   ]
  },
  {
   "cell_type": "code",
   "execution_count": null,
   "metadata": {
    "id": "tgwASRppbRBO",
    "outputId": "2a315c06-f0c3-4536-95d3-eb5cb3101ee2"
   },
   "outputs": [
    {
     "data": {
      "text/plain": [
       "(2, 3, 3)"
      ]
     },
     "execution_count": 8,
     "metadata": {
      "tags": []
     },
     "output_type": "execute_result"
    }
   ],
   "source": [
    "m4.shape"
   ]
  },
  {
   "cell_type": "markdown",
   "metadata": {
    "id": "7Kz3qK4dbRBO"
   },
   "source": [
    "5. Make the following arrays from zeros arrays and with for loops\n",
    "![](image/exercise1.png)"
   ]
  },
  {
   "cell_type": "code",
   "execution_count": null,
   "metadata": {
    "id": "kRY2kz27bRBO",
    "outputId": "000f7ae0-0453-47e8-f9f8-82798a2cf8c5",
    "scrolled": true
   },
   "outputs": [
    {
     "data": {
      "text/plain": [
       "array([[0., 0., 0.],\n",
       "       [0., 0., 0.],\n",
       "       [0., 0., 0.],\n",
       "       [0., 0., 0.],\n",
       "       [0., 0., 0.]])"
      ]
     },
     "execution_count": 9,
     "metadata": {
      "tags": []
     },
     "output_type": "execute_result"
    }
   ],
   "source": [
    "my_array = np.zeros((5,3))\n",
    "my_array"
   ]
  },
  {
   "cell_type": "code",
   "execution_count": null,
   "metadata": {
    "id": "wOuAp1u2bRBP",
    "outputId": "081d5bc0-08e4-4bf6-aaf6-cf454fe7d91a"
   },
   "outputs": [
    {
     "name": "stdout",
     "output_type": "stream",
     "text": [
      "[2. 2. 2.]\n",
      "[2. 2. 2.]\n",
      "[2. 2. 2.]\n",
      "[2. 2. 2.]\n",
      "[2. 2. 2.]\n"
     ]
    }
   ],
   "source": [
    "for i in my_array:\n",
    "    print(i+2)"
   ]
  },
  {
   "cell_type": "markdown",
   "metadata": {
    "id": "B5CVd2hJbRBP"
   },
   "source": [
    "### Using array-generating functions"
   ]
  },
  {
   "cell_type": "markdown",
   "metadata": {
    "id": "dDqBSqvlbRBP"
   },
   "source": [
    "For larger arrays it is inpractical to initialize the data manually, using explicit python lists. Instead we can use one of the many functions in `numpy` that generate arrays of different forms. Some of the more common are:"
   ]
  },
  {
   "cell_type": "markdown",
   "metadata": {
    "id": "EMAUDIaEbRBP"
   },
   "source": [
    "**arange**"
   ]
  },
  {
   "cell_type": "code",
   "execution_count": null,
   "metadata": {
    "id": "FNkLSpyAbRBQ",
    "outputId": "fc803600-d65d-42bc-db14-a71dce95b90f"
   },
   "outputs": [
    {
     "data": {
      "text/plain": [
       "array([0, 1, 2, 3, 4, 5, 6, 7, 8, 9])"
      ]
     },
     "execution_count": 11,
     "metadata": {
      "tags": []
     },
     "output_type": "execute_result"
    }
   ],
   "source": [
    "# create a range\n",
    "\n",
    "x = np.arange(10)\n",
    "\n",
    "x"
   ]
  },
  {
   "cell_type": "code",
   "execution_count": null,
   "metadata": {
    "id": "TYPfSxyVbRBQ",
    "outputId": "2b3d01eb-e7e1-4d7f-b568-f343e99d48d4"
   },
   "outputs": [
    {
     "name": "stdout",
     "output_type": "stream",
     "text": [
      "0\n",
      "1\n",
      "2\n",
      "3\n",
      "4\n",
      "5\n",
      "6\n",
      "7\n",
      "8\n",
      "9\n"
     ]
    }
   ],
   "source": [
    "for i in range(10):\n",
    "    print(i)"
   ]
  },
  {
   "cell_type": "code",
   "execution_count": null,
   "metadata": {
    "id": "ZxKjpgujbRBQ",
    "outputId": "0d7b98e3-899a-486d-a732-6451f8897494"
   },
   "outputs": [
    {
     "data": {
      "text/plain": [
       "array([10, 11, 12, 13, 14, 15, 16, 17, 18, 19])"
      ]
     },
     "execution_count": 13,
     "metadata": {
      "tags": []
     },
     "output_type": "execute_result"
    }
   ],
   "source": [
    "# create a range\n",
    "\n",
    "x = np.arange(10, 20) # arguments: start, stop\n",
    "\n",
    "x"
   ]
  },
  {
   "cell_type": "code",
   "execution_count": null,
   "metadata": {
    "id": "EHkFanbqbRBQ",
    "outputId": "9104d601-a518-4758-fc7e-ef2cacb0d84c"
   },
   "outputs": [
    {
     "data": {
      "text/plain": [
       "array([10, 12, 14, 16, 18])"
      ]
     },
     "execution_count": 17,
     "metadata": {
      "tags": []
     },
     "output_type": "execute_result"
    }
   ],
   "source": [
    "# create a range\n",
    "\n",
    "x = np.arange(10, 20, 2) # arguments: start, stop, step\n",
    "\n",
    "x"
   ]
  },
  {
   "cell_type": "code",
   "execution_count": null,
   "metadata": {
    "id": "YVd2r_Z4bRBR",
    "outputId": "3f182348-4402-4db2-c8dd-c3571de0d05f",
    "scrolled": true
   },
   "outputs": [
    {
     "data": {
      "text/plain": [
       "array([-1.00000000e+00, -9.00000000e-01, -8.00000000e-01, -7.00000000e-01,\n",
       "       -6.00000000e-01, -5.00000000e-01, -4.00000000e-01, -3.00000000e-01,\n",
       "       -2.00000000e-01, -1.00000000e-01, -2.22044605e-16,  1.00000000e-01,\n",
       "        2.00000000e-01,  3.00000000e-01,  4.00000000e-01,  5.00000000e-01,\n",
       "        6.00000000e-01,  7.00000000e-01,  8.00000000e-01,  9.00000000e-01])"
      ]
     },
     "execution_count": 18,
     "metadata": {
      "tags": []
     },
     "output_type": "execute_result"
    }
   ],
   "source": [
    "x = np.arange(-1, 1, 0.1)\n",
    "\n",
    "x"
   ]
  },
  {
   "cell_type": "markdown",
   "metadata": {
    "id": "xI8woCombRBR"
   },
   "source": [
    "The number 9.00000000e-01 already is a floating point number.\n",
    "It's written in scientific notation and is equivalent to 9 * 10**-1 or 0.9."
   ]
  },
  {
   "cell_type": "markdown",
   "metadata": {
    "id": "TUTEbxXNbRBR"
   },
   "source": [
    "#### linspace"
   ]
  },
  {
   "cell_type": "code",
   "execution_count": null,
   "metadata": {
    "id": "uSYK0bMWbRBR",
    "outputId": "10cf257f-66ee-49ff-f5e6-4380eba34343"
   },
   "outputs": [
    {
     "data": {
      "text/plain": [
       "array([ 0.        ,  1.11111111,  2.22222222,  3.33333333,  4.44444444,\n",
       "        5.55555556,  6.66666667,  7.77777778,  8.88888889, 10.        ])"
      ]
     },
     "execution_count": 34,
     "metadata": {
      "tags": []
     },
     "output_type": "execute_result"
    }
   ],
   "source": [
    "# using linspace, both end points ARE included\n",
    "np.linspace(0, 10, 10) #Unlike arange that uses step, linspace uses the number of sample"
   ]
  },
  {
   "cell_type": "markdown",
   "metadata": {
    "id": "gPWDRITobRBR"
   },
   "source": [
    "#### random data"
   ]
  },
  {
   "cell_type": "code",
   "execution_count": null,
   "metadata": {
    "id": "bPCIooeCbRBS"
   },
   "outputs": [],
   "source": [
    "from numpy import random"
   ]
  },
  {
   "cell_type": "code",
   "execution_count": null,
   "metadata": {
    "id": "KIQXrTXxbRBS",
    "outputId": "068029e4-26f9-4d12-b526-9b9a8149532d"
   },
   "outputs": [
    {
     "data": {
      "text/plain": [
       "array([[0.68886226, 0.80376421, 0.68511052, 0.05933548, 0.00609701],\n",
       "       [0.71453569, 0.98785297, 0.905757  , 0.56097693, 0.26333855],\n",
       "       [0.13570713, 0.98642657, 0.48538833, 0.20870015, 0.59357451],\n",
       "       [0.51402483, 0.30974573, 0.23055402, 0.52798755, 0.17149748],\n",
       "       [0.24462066, 0.14881871, 0.72438958, 0.42477621, 0.66295972]])"
      ]
     },
     "execution_count": 24,
     "metadata": {
      "tags": []
     },
     "output_type": "execute_result"
    }
   ],
   "source": [
    "#uniform random numbers in [0,1]\n",
    "random.rand(5,5)"
   ]
  },
  {
   "cell_type": "code",
   "execution_count": null,
   "metadata": {
    "id": "jtXeFxb1bRBS",
    "outputId": "2226b3da-79d8-40f6-9bb7-fae42ab93628",
    "scrolled": false
   },
   "outputs": [
    {
     "data": {
      "text/plain": [
       "array([[ 1.22268108, -0.11597117,  1.04261376, -1.85356452,  0.27452336],\n",
       "       [-0.42800941, -0.01834765,  1.15716121,  0.36945645,  1.70644982],\n",
       "       [ 0.344245  ,  0.4125159 , -0.22873644, -2.04407581, -0.46607386],\n",
       "       [-1.59228872,  0.26495182,  0.55572725, -0.00871542, -0.04690909],\n",
       "       [ 0.2984943 , -1.8564972 ,  0.7993992 , -0.90392802, -0.32273761]])"
      ]
     },
     "execution_count": 25,
     "metadata": {
      "tags": []
     },
     "output_type": "execute_result"
    }
   ],
   "source": [
    "# standard normal distributed random numbers\n",
    "x = random.randn(5,5)\n",
    "x"
   ]
  },
  {
   "cell_type": "code",
   "execution_count": null,
   "metadata": {
    "id": "wk_m_uW5bRBS",
    "outputId": "a1e3014e-2834-4c35-c31f-5d4860e3d801",
    "scrolled": true
   },
   "outputs": [
    {
     "data": {
      "text/plain": [
       "dtype('float64')"
      ]
     },
     "execution_count": 26,
     "metadata": {
      "tags": []
     },
     "output_type": "execute_result"
    }
   ],
   "source": [
    "x.dtype"
   ]
  },
  {
   "cell_type": "code",
   "execution_count": null,
   "metadata": {
    "id": "51Kd1ry3bRBS",
    "outputId": "3bbcb218-d607-48df-885e-18f42d52da46",
    "scrolled": true
   },
   "outputs": [
    {
     "data": {
      "text/plain": [
       "array([1, 1], dtype=int64)"
      ]
     },
     "execution_count": 27,
     "metadata": {
      "tags": []
     },
     "output_type": "execute_result"
    }
   ],
   "source": [
    "x = np.ones(2, dtype = np.int64)\n",
    "x"
   ]
  },
  {
   "cell_type": "code",
   "execution_count": null,
   "metadata": {
    "id": "tsbdFpK3bRBT",
    "outputId": "7727a8c6-d351-44fe-e7ba-20530bd03ee9"
   },
   "outputs": [
    {
     "data": {
      "text/plain": [
       "4"
      ]
     },
     "execution_count": 28,
     "metadata": {
      "tags": []
     },
     "output_type": "execute_result"
    }
   ],
   "source": [
    "random.randint(10)"
   ]
  },
  {
   "cell_type": "code",
   "execution_count": null,
   "metadata": {
    "id": "lIVWp-CfbRBT",
    "outputId": "0a483c5e-0a55-45ed-e688-696ad0caebf5"
   },
   "outputs": [
    {
     "data": {
      "text/plain": [
       "array([5, 3, 9, 7])"
      ]
     },
     "execution_count": 32,
     "metadata": {
      "tags": []
     },
     "output_type": "execute_result"
    }
   ],
   "source": [
    "random.randint(2, 10, size=4)"
   ]
  },
  {
   "cell_type": "code",
   "execution_count": null,
   "metadata": {
    "id": "MGm4TSX6bRBT",
    "outputId": "89500dbb-8d4a-49a9-a349-f7ebdd0ec91a"
   },
   "outputs": [
    {
     "data": {
      "text/plain": [
       "array([[[3, 4],\n",
       "        [4, 5]],\n",
       "\n",
       "       [[9, 7],\n",
       "        [7, 4]],\n",
       "\n",
       "       [[8, 9],\n",
       "        [3, 2]],\n",
       "\n",
       "       [[2, 6],\n",
       "        [2, 5]]])"
      ]
     },
     "execution_count": 36,
     "metadata": {
      "tags": []
     },
     "output_type": "execute_result"
    }
   ],
   "source": [
    "random.randint(2, 10, size=(4,2,2))"
   ]
  },
  {
   "cell_type": "markdown",
   "metadata": {
    "id": "Gze7Tgw-bRBT"
   },
   "source": [
    "## Exercise 2"
   ]
  },
  {
   "cell_type": "markdown",
   "metadata": {
    "id": "0FUaPAGJbRBT"
   },
   "source": [
    "1. Generate a 1-D array containing 5 random integers from 0 to 100:"
   ]
  },
  {
   "cell_type": "code",
   "execution_count": null,
   "metadata": {
    "id": "TSt9ojMqbRBT",
    "outputId": "7f14bef9-910a-4a91-bab2-c3e480c8ab72"
   },
   "outputs": [
    {
     "data": {
      "text/plain": [
       "array([83, 75, 78,  6, 31])"
      ]
     },
     "execution_count": 37,
     "metadata": {
      "tags": []
     },
     "output_type": "execute_result"
    }
   ],
   "source": [
    "random.randint(0,100, size=5)"
   ]
  },
  {
   "cell_type": "markdown",
   "metadata": {
    "id": "AYEccXKabRBU"
   },
   "source": [
    "2. Generate a 2-D array with 3 rows, each row contains 5 random integers from 0 to 100"
   ]
  },
  {
   "cell_type": "code",
   "execution_count": null,
   "metadata": {
    "id": "09ycp9PmbRBU"
   },
   "outputs": [],
   "source": [
    "random.randint()"
   ]
  },
  {
   "cell_type": "markdown",
   "metadata": {
    "id": "SXwkjuUcbRBU"
   },
   "source": [
    "3. Generate a 1-D array of 30 evenly spaced elements between 1.5 and 5.5, inclusive."
   ]
  }
 ],
 "metadata": {
  "colab": {
   "name": "Pert1_Numpy.ipynb",
   "provenance": []
  },
  "kernelspec": {
   "display_name": "Python 3",
   "language": "python",
   "name": "python3"
  },
  "language_info": {
   "codemirror_mode": {
    "name": "ipython",
    "version": 3
   },
   "file_extension": ".py",
   "mimetype": "text/x-python",
   "name": "python",
   "nbconvert_exporter": "python",
   "pygments_lexer": "ipython3",
   "version": "3.8.8"
  }
 },
 "nbformat": 4,
 "nbformat_minor": 1
}
